{
 "cells": [
  {
   "cell_type": "markdown",
   "id": "5c638c50",
   "metadata": {},
   "source": [
    "# Closures\n",
    "If you wrap a function, it should pull its dependencies within its closure."
   ]
  },
  {
   "cell_type": "code",
   "execution_count": 5,
   "id": "f6212b81",
   "metadata": {},
   "outputs": [
    {
     "name": "stdout",
     "output_type": "stream",
     "text": [
      "(<cell at 0x7e899dd77520: int object at 0x7e89bad000d0>,)\n",
      "('counter',)\n",
      "0x7e89bad000d0\n"
     ]
    }
   ],
   "source": [
    "def outer():\n",
    "    counter = 0\n",
    "    def inner():\n",
    "        nonlocal counter # Refers to outer's variable.\n",
    "        counter += 1\n",
    "        print (counter)\n",
    "    return inner\n",
    "\n",
    "fn1 = outer()\n",
    "fn2 = outer()\n",
    "\n",
    "print(fn1.__closure__, fn1.__code__.co_freevars, hex(id(0)), sep=\"\\n\")"
   ]
  },
  {
   "cell_type": "markdown",
   "id": "e0ad7090",
   "metadata": {},
   "source": [
    "Every time the outer function runs, a new closure with a unique counter var is created."
   ]
  },
  {
   "cell_type": "code",
   "execution_count": 6,
   "id": "d7a28bad",
   "metadata": {},
   "outputs": [
    {
     "name": "stdout",
     "output_type": "stream",
     "text": [
      "fn1:\n",
      "1\n",
      "2\n",
      "3\n",
      "4\n",
      "5\n",
      "fn2:\n",
      "1\n",
      "2\n",
      "3\n"
     ]
    }
   ],
   "source": [
    "print(\"fn1:\")\n",
    "for i in range(5):\n",
    "    fn1()\n",
    "\n",
    "print(\"fn2:\")\n",
    "for i in range(3):\n",
    "    fn2()"
   ]
  },
  {
   "cell_type": "markdown",
   "id": "e5d4b55a",
   "metadata": {},
   "source": [
    "The local variable 'counter' is evaluated at 'outer()' function execution, and added to the closure of 'inner()'. That means every returned 'inner' closure will have its unique counter.\n",
    "If the 'outer()' function has a mutable argument, the pointer to it is evaluated instead, so it will be shared."
   ]
  }
 ],
 "metadata": {
  "kernelspec": {
   "display_name": "Python 3 (ipykernel)",
   "language": "python",
   "name": "python3"
  },
  "language_info": {
   "codemirror_mode": {
    "name": "ipython",
    "version": 3
   },
   "file_extension": ".py",
   "mimetype": "text/x-python",
   "name": "python",
   "nbconvert_exporter": "python",
   "pygments_lexer": "ipython3",
   "version": "3.10.12"
  }
 },
 "nbformat": 4,
 "nbformat_minor": 5
}

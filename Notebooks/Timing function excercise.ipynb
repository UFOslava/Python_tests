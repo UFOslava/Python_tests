{
 "cells": [
  {
   "cell_type": "code",
   "execution_count": 2,
   "id": "546e82bb",
   "metadata": {},
   "outputs": [],
   "source": [
    "import time"
   ]
  },
  {
   "cell_type": "code",
   "execution_count": 16,
   "id": "a9a14a00",
   "metadata": {},
   "outputs": [],
   "source": [
    "def benchmark(func, *args, repeats=5, **kwargs):\n",
    "    _start = time.perf_counter()\n",
    "#     print(_start)\n",
    "    for i in range(repeats):\n",
    "        func(*args, **kwargs)\n",
    "    return (time.perf_counter() - _start) / repeats"
   ]
  },
  {
   "cell_type": "code",
   "execution_count": 24,
   "id": "84a53db1",
   "metadata": {},
   "outputs": [
    {
     "name": "stdout",
     "output_type": "stream",
     "text": [
      "*** 1 2 3 (1, 2, 3) ***\n",
      "*** 1 2 3 (1, 2, 3) ***\n",
      "*** 1 2 3 (1, 2, 3) ***\n",
      "*** 1 2 3 (1, 2, 3) ***\n",
      "*** 1 2 3 (1, 2, 3) ***\n",
      "*** 1 2 3 (1, 2, 3) ***\n",
      "*** 1 2 3 (1, 2, 3) ***\n",
      "*** 1 2 3 (1, 2, 3) ***\n",
      "*** 1 2 3 (1, 2, 3) ***\n",
      "*** 1 2 3 (1, 2, 3) ***\n",
      "*** 1 2 3 (1, 2, 3) ***\n",
      "*** 1 2 3 (1, 2, 3) ***\n",
      "*** 1 2 3 (1, 2, 3) ***\n",
      "*** 1 2 3 (1, 2, 3) ***\n",
      "*** 1 2 3 (1, 2, 3) ***\n",
      "*** 1 2 3 (1, 2, 3) ***\n",
      "*** 1 2 3 (1, 2, 3) ***\n",
      "*** 1 2 3 (1, 2, 3) ***\n",
      "*** 1 2 3 (1, 2, 3) ***\n",
      "*** 1 2 3 (1, 2, 3) ***\n",
      "*** 1 2 3 (1, 2, 3) ***\n",
      "*** 1 2 3 (1, 2, 3) ***\n",
      "*** 1 2 3 (1, 2, 3) ***\n",
      "*** 1 2 3 (1, 2, 3) ***\n",
      "*** 1 2 3 (1, 2, 3) ***\n",
      "*** 1 2 3 (1, 2, 3) ***\n",
      "*** 1 2 3 (1, 2, 3) ***\n",
      "*** 1 2 3 (1, 2, 3) ***\n",
      "*** 1 2 3 (1, 2, 3) ***\n",
      "*** 1 2 3 (1, 2, 3) ***\n",
      "*** 1 2 3 (1, 2, 3) ***\n",
      "*** 1 2 3 (1, 2, 3) ***\n",
      "*** 1 2 3 (1, 2, 3) ***\n",
      "*** 1 2 3 (1, 2, 3) ***\n",
      "*** 1 2 3 (1, 2, 3) ***\n",
      "*** 1 2 3 (1, 2, 3) ***\n",
      "*** 1 2 3 (1, 2, 3) ***\n",
      "*** 1 2 3 (1, 2, 3) ***\n",
      "*** 1 2 3 (1, 2, 3) ***\n",
      "*** 1 2 3 (1, 2, 3) ***\n",
      "*** 1 2 3 (1, 2, 3) ***\n",
      "*** 1 2 3 (1, 2, 3) ***\n",
      "*** 1 2 3 (1, 2, 3) ***\n",
      "*** 1 2 3 (1, 2, 3) ***\n",
      "*** 1 2 3 (1, 2, 3) ***\n",
      "*** 1 2 3 (1, 2, 3) ***\n",
      "*** 1 2 3 (1, 2, 3) ***\n",
      "*** 1 2 3 (1, 2, 3) ***\n",
      "*** 1 2 3 (1, 2, 3) ***\n",
      "*** 1 2 3 (1, 2, 3) ***\n"
     ]
    },
    {
     "data": {
      "text/plain": [
       "0.001083000040089246"
      ]
     },
     "execution_count": 24,
     "metadata": {},
     "output_type": "execute_result"
    }
   ],
   "source": [
    "benchmark(print, \"***\", 1, 2, 3, (1, 2, 3), end=\" ***\\n\", flush=True, repeats=50)"
   ]
  },
  {
   "cell_type": "code",
   "execution_count": 26,
   "id": "66c35bba",
   "metadata": {},
   "outputs": [],
   "source": [
    "a = b = 10"
   ]
  },
  {
   "cell_type": "code",
   "execution_count": 27,
   "id": "572d15bb",
   "metadata": {},
   "outputs": [
    {
     "name": "stdout",
     "output_type": "stream",
     "text": [
      "10 10\n"
     ]
    }
   ],
   "source": [
    "print(a, b)"
   ]
  }
 ],
 "metadata": {
  "kernelspec": {
   "display_name": "Python 3 (ipykernel)",
   "language": "python",
   "name": "python3"
  },
  "language_info": {
   "codemirror_mode": {
    "name": "ipython",
    "version": 3
   },
   "file_extension": ".py",
   "mimetype": "text/x-python",
   "name": "python",
   "nbconvert_exporter": "python",
   "pygments_lexer": "ipython3",
   "version": "3.10.12"
  }
 },
 "nbformat": 4,
 "nbformat_minor": 5
}

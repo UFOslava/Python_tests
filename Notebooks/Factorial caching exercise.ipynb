{
 "cells": [
  {
   "cell_type": "markdown",
   "id": "ef48c75d",
   "metadata": {},
   "source": [
    "# Factorial calculator with caching"
   ]
  },
  {
   "cell_type": "code",
   "execution_count": 1,
   "id": "3b05a447",
   "metadata": {},
   "outputs": [],
   "source": [
    "def factorial(n, cache = {}):\n",
    "    if n < 1:\n",
    "        return 1\n",
    "    elif n in cache:\n",
    "        return cache[n]\n",
    "    else:\n",
    "        print(\"Calculating {0}!\".format(n))\n",
    "        result = n * factorial(n-1)\n",
    "        cache[n] = result\n",
    "        return result"
   ]
  },
  {
   "cell_type": "code",
   "execution_count": 2,
   "id": "96d5ffb1",
   "metadata": {},
   "outputs": [
    {
     "name": "stdout",
     "output_type": "stream",
     "text": [
      "Calculating 12!\n",
      "Calculating 11!\n",
      "Calculating 10!\n",
      "Calculating 9!\n",
      "Calculating 8!\n",
      "Calculating 7!\n",
      "Calculating 6!\n",
      "Calculating 5!\n",
      "Calculating 4!\n",
      "Calculating 3!\n",
      "Calculating 2!\n",
      "Calculating 1!\n"
     ]
    },
    {
     "data": {
      "text/plain": [
       "479001600"
      ]
     },
     "execution_count": 2,
     "metadata": {},
     "output_type": "execute_result"
    }
   ],
   "source": [
    "factorial(12)"
   ]
  },
  {
   "cell_type": "code",
   "execution_count": 3,
   "id": "e5ac9ff8",
   "metadata": {},
   "outputs": [
    {
     "data": {
      "text/plain": [
       "362880"
      ]
     },
     "execution_count": 3,
     "metadata": {},
     "output_type": "execute_result"
    }
   ],
   "source": [
    "factorial(9)"
   ]
  },
  {
   "cell_type": "code",
   "execution_count": 4,
   "id": "c1a88182",
   "metadata": {},
   "outputs": [
    {
     "name": "stdout",
     "output_type": "stream",
     "text": [
      "Calculating 18!\n",
      "Calculating 17!\n",
      "Calculating 16!\n",
      "Calculating 15!\n",
      "Calculating 14!\n",
      "Calculating 13!\n"
     ]
    },
    {
     "data": {
      "text/plain": [
       "6402373705728000"
      ]
     },
     "execution_count": 4,
     "metadata": {},
     "output_type": "execute_result"
    }
   ],
   "source": [
    "factorial(18)"
   ]
  },
  {
   "cell_type": "code",
   "execution_count": 7,
   "id": "0ad192dc",
   "metadata": {},
   "outputs": [
    {
     "data": {
      "text/plain": [
       "120"
      ]
     },
     "execution_count": 7,
     "metadata": {},
     "output_type": "execute_result"
    }
   ],
   "source": [
    "factorial(5)"
   ]
  }
 ],
 "metadata": {
  "kernelspec": {
   "display_name": "Python 3 (ipykernel)",
   "language": "python",
   "name": "python3"
  },
  "language_info": {
   "codemirror_mode": {
    "name": "ipython",
    "version": 3
   },
   "file_extension": ".py",
   "mimetype": "text/x-python",
   "name": "python",
   "nbconvert_exporter": "python",
   "pygments_lexer": "ipython3",
   "version": "3.10.12"
  }
 },
 "nbformat": 4,
 "nbformat_minor": 5
}

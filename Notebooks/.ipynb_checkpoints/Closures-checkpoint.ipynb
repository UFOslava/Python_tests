{
 "cells": [
  {
   "cell_type": "markdown",
   "id": "5c638c50",
   "metadata": {},
   "source": [
    "# Closures\n",
    "If you wrap a function, it should pull its dependencies within its closure."
   ]
  },
  {
   "cell_type": "code",
   "execution_count": 5,
   "id": "f6212b81",
   "metadata": {},
   "outputs": [
    {
     "name": "stdout",
     "output_type": "stream",
     "text": [
      "(<cell at 0x7e899dd77520: int object at 0x7e89bad000d0>,)\n",
      "('counter',)\n",
      "0x7e89bad000d0\n"
     ]
    }
   ],
   "source": [
    "def outer():\n",
    "    counter = 0\n",
    "    def inner():\n",
    "        nonlocal counter # Refers to outer's variable.\n",
    "        counter += 1\n",
    "        print (counter)\n",
    "    return inner\n",
    "\n",
    "fn1 = outer()\n",
    "fn2 = outer()\n",
    "\n",
    "print(fn1.__closure__, fn1.__code__.co_freevars, hex(id(0)), sep=\"\\n\")"
   ]
  },
  {
   "cell_type": "markdown",
   "id": "dcb13c4e",
   "metadata": {},
   "source": [
    "Every time the outer function runs, a new closure with a unique counter var is created."
   ]
  },
  {
   "cell_type": "code",
   "execution_count": 6,
   "id": "d7a28bad",
   "metadata": {},
   "outputs": [
    {
     "name": "stdout",
     "output_type": "stream",
     "text": [
      "fn1:\n",
      "1\n",
      "2\n",
      "3\n",
      "4\n",
      "5\n",
      "fn2:\n",
      "1\n",
      "2\n",
      "3\n"
     ]
    }
   ],
   "source": [
    "print(\"fn1:\")\n",
    "for i in range(5):\n",
    "    fn1()\n",
    "\n",
    "print(\"fn2:\")\n",
    "for i in range(3):\n",
    "    fn2()"
   ]
  },
  {
   "cell_type": "markdown",
   "id": "4942ba01",
   "metadata": {},
   "source": [
    "If we want to create a shared var, it needs to point at a shared variable, defined at outer function evaluation:"
   ]
  },
  {
   "cell_type": "code",
   "execution_count": 11,
   "id": "fb5bc4ef",
   "metadata": {},
   "outputs": [],
   "source": [
    "def outer():\n",
    "    counter = 0\n",
    "    def inner():\n",
    "#         counter # Refers to own variable.\n",
    "        counter += 1\n",
    "        print (counter)\n",
    "    return inner\n",
    "\n",
    "fn1 = outer()\n",
    "fn2 = outer()"
   ]
  },
  {
   "cell_type": "code",
   "execution_count": 12,
   "id": "f93879ee",
   "metadata": {},
   "outputs": [
    {
     "name": "stdout",
     "output_type": "stream",
     "text": [
      "fn1:\n"
     ]
    },
    {
     "ename": "UnboundLocalError",
     "evalue": "local variable 'counter' referenced before assignment",
     "output_type": "error",
     "traceback": [
      "\u001b[0;31m---------------------------------------------------------------------------\u001b[0m",
      "\u001b[0;31mUnboundLocalError\u001b[0m                         Traceback (most recent call last)",
      "\u001b[0;32m/tmp/ipykernel_65576/2205211033.py\u001b[0m in \u001b[0;36m<module>\u001b[0;34m\u001b[0m\n\u001b[1;32m      1\u001b[0m \u001b[0mprint\u001b[0m\u001b[0;34m(\u001b[0m\u001b[0;34m\"fn1:\"\u001b[0m\u001b[0;34m)\u001b[0m\u001b[0;34m\u001b[0m\u001b[0;34m\u001b[0m\u001b[0m\n\u001b[1;32m      2\u001b[0m \u001b[0;32mfor\u001b[0m \u001b[0mi\u001b[0m \u001b[0;32min\u001b[0m \u001b[0mrange\u001b[0m\u001b[0;34m(\u001b[0m\u001b[0;36m5\u001b[0m\u001b[0;34m)\u001b[0m\u001b[0;34m:\u001b[0m\u001b[0;34m\u001b[0m\u001b[0;34m\u001b[0m\u001b[0m\n\u001b[0;32m----> 3\u001b[0;31m     \u001b[0mfn1\u001b[0m\u001b[0;34m(\u001b[0m\u001b[0;34m)\u001b[0m\u001b[0;34m\u001b[0m\u001b[0;34m\u001b[0m\u001b[0m\n\u001b[0m\u001b[1;32m      4\u001b[0m \u001b[0;34m\u001b[0m\u001b[0m\n\u001b[1;32m      5\u001b[0m \u001b[0mprint\u001b[0m\u001b[0;34m(\u001b[0m\u001b[0;34m\"fn2:\"\u001b[0m\u001b[0;34m)\u001b[0m\u001b[0;34m\u001b[0m\u001b[0;34m\u001b[0m\u001b[0m\n",
      "\u001b[0;32m/tmp/ipykernel_65576/619119.py\u001b[0m in \u001b[0;36minner\u001b[0;34m()\u001b[0m\n\u001b[1;32m      3\u001b[0m     \u001b[0;32mdef\u001b[0m \u001b[0minner\u001b[0m\u001b[0;34m(\u001b[0m\u001b[0;34m)\u001b[0m\u001b[0;34m:\u001b[0m\u001b[0;34m\u001b[0m\u001b[0;34m\u001b[0m\u001b[0m\n\u001b[1;32m      4\u001b[0m         \u001b[0;31m# \"counter\" refers to own variable.\u001b[0m\u001b[0;34m\u001b[0m\u001b[0;34m\u001b[0m\u001b[0m\n\u001b[0;32m----> 5\u001b[0;31m         \u001b[0mcounter\u001b[0m \u001b[0;34m+=\u001b[0m \u001b[0;36m1\u001b[0m\u001b[0;34m\u001b[0m\u001b[0;34m\u001b[0m\u001b[0m\n\u001b[0m\u001b[1;32m      6\u001b[0m         \u001b[0mprint\u001b[0m \u001b[0;34m(\u001b[0m\u001b[0mcounter\u001b[0m\u001b[0;34m)\u001b[0m\u001b[0;34m\u001b[0m\u001b[0;34m\u001b[0m\u001b[0m\n\u001b[1;32m      7\u001b[0m     \u001b[0;32mreturn\u001b[0m \u001b[0minner\u001b[0m\u001b[0;34m\u001b[0m\u001b[0;34m\u001b[0m\u001b[0m\n",
      "\u001b[0;31mUnboundLocalError\u001b[0m: local variable 'counter' referenced before assignment"
     ]
    }
   ],
   "source": [
    "print(\"fn1:\")\n",
    "for i in range(5):\n",
    "    fn1()\n",
    "\n",
    "print(\"fn2:\")\n",
    "for i in range(3):\n",
    "    fn2()"
   ]
  }
 ],
 "metadata": {
  "kernelspec": {
   "display_name": "Python 3 (ipykernel)",
   "language": "python",
   "name": "python3"
  },
  "language_info": {
   "codemirror_mode": {
    "name": "ipython",
    "version": 3
   },
   "file_extension": ".py",
   "mimetype": "text/x-python",
   "name": "python",
   "nbconvert_exporter": "python",
   "pygments_lexer": "ipython3",
   "version": "3.10.12"
  }
 },
 "nbformat": 4,
 "nbformat_minor": 5
}

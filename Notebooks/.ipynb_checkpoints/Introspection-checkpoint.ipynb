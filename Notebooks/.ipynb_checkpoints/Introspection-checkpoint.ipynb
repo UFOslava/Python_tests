{
 "cells": [
  {
   "cell_type": "markdown",
   "id": "71745218",
   "metadata": {},
   "source": [
    "# Introspection"
   ]
  },
  {
   "cell_type": "markdown",
   "id": "a3c6b17f",
   "metadata": {},
   "source": [
    "### A function is given:"
   ]
  },
  {
   "cell_type": "code",
   "execution_count": 17,
   "id": "a7f8024e",
   "metadata": {},
   "outputs": [],
   "source": [
    "# Some code\n",
    "i = 10\n",
    "\n",
    "# TODO This function is missing actions\n",
    "def my_func(a:\"number\",\n",
    "            b:\"number\" = 10,\n",
    "            *args, action:\"str\",\n",
    "            offset = 0,\n",
    "            **kwargs)\\\n",
    "            -> \"Does a math function, returns result with offset\":\n",
    "    \"\"\"This is an internal annotation orphan string\"\"\"\n",
    "    result = 0\n",
    "    if ('mul' in action.lower()):\n",
    "        result = a * b\n",
    "    elif ('add' in action.lower()):\n",
    "        result = a + b\n",
    "        \n",
    "    return result + offset"
   ]
  },
  {
   "cell_type": "code",
   "execution_count": 18,
   "id": "15afdef2",
   "metadata": {},
   "outputs": [
    {
     "name": "stdout",
     "output_type": "stream",
     "text": [
      "20\n"
     ]
    }
   ],
   "source": [
    "print(my_func(15, action=\"Add\", offset=-5))"
   ]
  },
  {
   "cell_type": "markdown",
   "id": "c7ff3f96",
   "metadata": {},
   "source": [
    "### Doc string:"
   ]
  },
  {
   "cell_type": "code",
   "execution_count": 19,
   "id": "7b983ac5",
   "metadata": {},
   "outputs": [
    {
     "data": {
      "text/plain": [
       "'This is an internal annotation orphan string'"
      ]
     },
     "execution_count": 19,
     "metadata": {},
     "output_type": "execute_result"
    }
   ],
   "source": [
    "my_func.__doc__"
   ]
  },
  {
   "cell_type": "markdown",
   "id": "67c1fc10",
   "metadata": {},
   "source": [
    "### Annotations:"
   ]
  },
  {
   "cell_type": "code",
   "execution_count": 20,
   "id": "c377c773",
   "metadata": {},
   "outputs": [
    {
     "data": {
      "text/plain": [
       "{'a': 'number',\n",
       " 'b': 'number',\n",
       " 'action': 'str',\n",
       " 'return': 'Does a math function, returns result with offset'}"
      ]
     },
     "execution_count": 20,
     "metadata": {},
     "output_type": "execute_result"
    }
   ],
   "source": [
    "my_func.__annotations__"
   ]
  },
  {
   "cell_type": "markdown",
   "id": "edf5b44c",
   "metadata": {},
   "source": [
    "### Custom Attribute:"
   ]
  },
  {
   "cell_type": "code",
   "execution_count": 21,
   "id": "07d4f369",
   "metadata": {},
   "outputs": [],
   "source": [
    "my_func.custom_attrib = \"This attribute is now a part of the function\""
   ]
  },
  {
   "cell_type": "markdown",
   "id": "395c9756",
   "metadata": {},
   "source": [
    "### List Attributes:"
   ]
  },
  {
   "cell_type": "code",
   "execution_count": 22,
   "id": "fd662a5c",
   "metadata": {},
   "outputs": [
    {
     "data": {
      "text/plain": [
       "['__annotations__',\n",
       " '__builtins__',\n",
       " '__call__',\n",
       " '__class__',\n",
       " '__closure__',\n",
       " '__code__',\n",
       " '__defaults__',\n",
       " '__delattr__',\n",
       " '__dict__',\n",
       " '__dir__',\n",
       " '__doc__',\n",
       " '__eq__',\n",
       " '__format__',\n",
       " '__ge__',\n",
       " '__get__',\n",
       " '__getattribute__',\n",
       " '__globals__',\n",
       " '__gt__',\n",
       " '__hash__',\n",
       " '__init__',\n",
       " '__init_subclass__',\n",
       " '__kwdefaults__',\n",
       " '__le__',\n",
       " '__lt__',\n",
       " '__module__',\n",
       " '__name__',\n",
       " '__ne__',\n",
       " '__new__',\n",
       " '__qualname__',\n",
       " '__reduce__',\n",
       " '__reduce_ex__',\n",
       " '__repr__',\n",
       " '__setattr__',\n",
       " '__sizeof__',\n",
       " '__str__',\n",
       " '__subclasshook__',\n",
       " 'custom_attrib']"
      ]
     },
     "execution_count": 22,
     "metadata": {},
     "output_type": "execute_result"
    }
   ],
   "source": [
    "dir(my_func)"
   ]
  },
  {
   "cell_type": "markdown",
   "id": "b5ba741f",
   "metadata": {},
   "source": [
    "### Access various attributes:"
   ]
  },
  {
   "cell_type": "code",
   "execution_count": 32,
   "id": "bdae2b12",
   "metadata": {},
   "outputs": [
    {
     "name": "stdout",
     "output_type": "stream",
     "text": [
      "my_func\n",
      "__main__\n",
      "This attribute is now a part of the function\n",
      "(10,)\n",
      "{'offset': 0}\n"
     ]
    }
   ],
   "source": [
    "print(my_func.__name__,\n",
    "      my_func.__module__,\n",
    "      my_func.custom_attrib,\n",
    "      my_func.__defaults__,\n",
    "      my_func.__kwdefaults__,\n",
    "#       my_func.__\n",
    "      sep = \"\\n\")"
   ]
  },
  {
   "cell_type": "markdown",
   "id": "e6615203",
   "metadata": {},
   "source": [
    "##### Code Attributes"
   ]
  },
  {
   "cell_type": "code",
   "execution_count": 51,
   "id": "ac0115b0",
   "metadata": {},
   "outputs": [
    {
     "name": "stdout",
     "output_type": "stream",
     "text": [
      "('a', 'b', 'action', 'offset', 'args', 'kwargs', 'result')\n",
      "2\n",
      "('This is an internal annotation orphan string', 0, 'mul', 'add')\n",
      "()\n",
      "my_func\n",
      "('lower',)\n",
      "()\n"
     ]
    },
    {
     "data": {
      "text/plain": [
       "['__class__',\n",
       " '__delattr__',\n",
       " '__dir__',\n",
       " '__doc__',\n",
       " '__eq__',\n",
       " '__format__',\n",
       " '__ge__',\n",
       " '__getattribute__',\n",
       " '__gt__',\n",
       " '__hash__',\n",
       " '__init__',\n",
       " '__init_subclass__',\n",
       " '__le__',\n",
       " '__lt__',\n",
       " '__ne__',\n",
       " '__new__',\n",
       " '__reduce__',\n",
       " '__reduce_ex__',\n",
       " '__repr__',\n",
       " '__setattr__',\n",
       " '__sizeof__',\n",
       " '__str__',\n",
       " '__subclasshook__',\n",
       " 'co_argcount',\n",
       " 'co_cellvars',\n",
       " 'co_code',\n",
       " 'co_consts',\n",
       " 'co_filename',\n",
       " 'co_firstlineno',\n",
       " 'co_flags',\n",
       " 'co_freevars',\n",
       " 'co_kwonlyargcount',\n",
       " 'co_lines',\n",
       " 'co_linetable',\n",
       " 'co_lnotab',\n",
       " 'co_name',\n",
       " 'co_names',\n",
       " 'co_nlocals',\n",
       " 'co_posonlyargcount',\n",
       " 'co_stacksize',\n",
       " 'co_varnames',\n",
       " 'replace']"
      ]
     },
     "execution_count": 51,
     "metadata": {},
     "output_type": "execute_result"
    }
   ],
   "source": [
    "code = my_func.__code__\n",
    "print(code.co_varnames,\n",
    "#       code.c\n",
    "      code.co_argcount,\n",
    "      code.co_consts,\n",
    "      code.co_freevars,\n",
    "      code.co_name,\n",
    "      code.co_names,\n",
    "      code.co_cellvars,\n",
    "      sep = \"\\n\")\n",
    "dir(code)"
   ]
  },
  {
   "cell_type": "markdown",
   "id": "57406b35",
   "metadata": {},
   "source": [
    "### Inspect Module"
   ]
  },
  {
   "cell_type": "code",
   "execution_count": 58,
   "id": "03f51c24",
   "metadata": {},
   "outputs": [],
   "source": [
    "import inspect\n",
    "from inspect import isfunction, ismethod, isroutine"
   ]
  },
  {
   "cell_type": "code",
   "execution_count": 60,
   "id": "074d76a0",
   "metadata": {},
   "outputs": [
    {
     "name": "stdout",
     "output_type": "stream",
     "text": [
      "True\n",
      "False\n",
      "True\n"
     ]
    }
   ],
   "source": [
    "print(isfunction(my_func),\n",
    "      ismethod(my_func),\n",
    "      isroutine(my_func),\n",
    "      sep = \"\\n\")"
   ]
  },
  {
   "cell_type": "code",
   "execution_count": 71,
   "id": "cf1a1a1c",
   "metadata": {},
   "outputs": [
    {
     "data": {
      "text/plain": [
       "mappingproxy({'a': <Parameter \"a: 'number'\">,\n",
       "              'b': <Parameter \"b: 'number' = 10\">,\n",
       "              'args': <Parameter \"*args\">,\n",
       "              'action': <Parameter \"action: 'str'\">,\n",
       "              'offset': <Parameter \"offset=0\">,\n",
       "              'kwargs': <Parameter \"**kwargs\">})"
      ]
     },
     "execution_count": 71,
     "metadata": {},
     "output_type": "execute_result"
    }
   ],
   "source": [
    "inspect.signature(my_func).parameters"
   ]
  },
  {
   "cell_type": "code",
   "execution_count": 67,
   "id": "a31b33c8",
   "metadata": {},
   "outputs": [
    {
     "data": {
      "text/plain": [
       "'Does a math function, returns result with offset'"
      ]
     },
     "execution_count": 67,
     "metadata": {},
     "output_type": "execute_result"
    }
   ],
   "source": [
    "inspect.signature(my_func).return_annotation"
   ]
  },
  {
   "cell_type": "markdown",
   "id": "2ce7f465",
   "metadata": {},
   "source": [
    "##### Disassembling the parameters dictionary:"
   ]
  },
  {
   "cell_type": "code",
   "execution_count": 75,
   "id": "6f7f1ddb",
   "metadata": {},
   "outputs": [
    {
     "name": "stdout",
     "output_type": "stream",
     "text": [
      "a -> a: 'number'\n",
      "b -> b: 'number' = 10\n",
      "args -> *args\n",
      "action -> action: 'str'\n",
      "offset -> offset=0\n",
      "kwargs -> **kwargs\n"
     ]
    }
   ],
   "source": [
    "sig = inspect.signature(my_func).parameters\n",
    "for name, param in sig.items():\n",
    "    print(name, \"->\", param)"
   ]
  }
 ],
 "metadata": {
  "kernelspec": {
   "display_name": "Python 3 (ipykernel)",
   "language": "python",
   "name": "python3"
  },
  "language_info": {
   "codemirror_mode": {
    "name": "ipython",
    "version": 3
   },
   "file_extension": ".py",
   "mimetype": "text/x-python",
   "name": "python",
   "nbconvert_exporter": "python",
   "pygments_lexer": "ipython3",
   "version": "3.10.12"
  }
 },
 "nbformat": 4,
 "nbformat_minor": 5
}

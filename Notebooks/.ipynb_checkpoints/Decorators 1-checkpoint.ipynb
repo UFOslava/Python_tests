{
 "cells": [
  {
   "cell_type": "markdown",
   "id": "f9c6ebaa",
   "metadata": {},
   "source": [
    "# Decorators\n",
    "### Basically, a wrapper\n",
    "When you wrap a function and add functionality (debug, timing, etc) around it, and then replace the pointer to the original function with the wrapper one, it's called a \"decorator\"."
   ]
  },
  {
   "cell_type": "markdown",
   "id": "14485f4d",
   "metadata": {},
   "source": [
    "For demonstartion purposes, lets define a simple function:"
   ]
  },
  {
   "cell_type": "code",
   "execution_count": 60,
   "id": "5650b86a",
   "metadata": {},
   "outputs": [],
   "source": [
    "def adder(a:int, b:int,/) -> int:\n",
    "    \"\"\"This function adds 2 numbers together\"\"\"\n",
    "    return a + b"
   ]
  },
  {
   "cell_type": "markdown",
   "id": "ef135e10",
   "metadata": {},
   "source": [
    "Now, lets create a simple counting wrapper"
   ]
  },
  {
   "cell_type": "code",
   "execution_count": 61,
   "id": "cde23b39",
   "metadata": {},
   "outputs": [],
   "source": [
    "def wrapper(fn):\n",
    "    counter = 0\n",
    "    def run_and_count(*args, **kwargs):\n",
    "        \"\"\"This is a wrapper for run counting\"\"\"\n",
    "        nonlocal counter\n",
    "        counter += 1\n",
    "        fn(*args, **kwargs)\n",
    "        print (\"{0} function ran {1} times.\".format(fn.__name__, counter))\n",
    "    return run_and_count"
   ]
  },
  {
   "cell_type": "code",
   "execution_count": 62,
   "id": "8e4ac81d",
   "metadata": {},
   "outputs": [
    {
     "name": "stdout",
     "output_type": "stream",
     "text": [
      "adder function ran 1 times.\n",
      "adder function ran 2 times.\n",
      "adder function ran 3 times.\n",
      "adder function ran 4 times.\n"
     ]
    }
   ],
   "source": [
    "adder = wrapper(adder)\n",
    "\n",
    "for i in range(1,5):\n",
    "    adder(5, 2 * i)"
   ]
  },
  {
   "cell_type": "markdown",
   "id": "0de525e0",
   "metadata": {},
   "source": [
    "The function is wrapped, and additional functionality is attached to it, but it has a problem: The original signature, name and description are lost."
   ]
  },
  {
   "cell_type": "code",
   "execution_count": 63,
   "id": "72a2d7f3",
   "metadata": {},
   "outputs": [
    {
     "name": "stdout",
     "output_type": "stream",
     "text": [
      "run_and_count\n",
      "(*args, **kwargs)\n",
      "This is a wrapper for run counting\n",
      "\n",
      "\n",
      "Help on function run_and_count in module __main__:\n",
      "\n",
      "run_and_count(*args, **kwargs)\n",
      "    This is a wrapper for run counting\n",
      "\n"
     ]
    }
   ],
   "source": [
    "from inspect import signature\n",
    "sign = signature(adder)\n",
    "print(adder.__name__,\n",
    "     sign,\n",
    "     adder.__doc__, \"\\n\",\n",
    "     sep=\"\\n\")\n",
    "help(adder)"
   ]
  },
  {
   "cell_type": "markdown",
   "id": "af8aa15f",
   "metadata": {},
   "source": [
    "We completely lost the original descriptors. There is a way to get them back though.\n",
    "First, lets restore the original function."
   ]
  },
  {
   "cell_type": "code",
   "execution_count": 64,
   "id": "de1cbd1a",
   "metadata": {},
   "outputs": [
    {
     "name": "stdout",
     "output_type": "stream",
     "text": [
      "adder\n",
      "(a: int, b: int, /) -> int\n",
      "This function adds 2 numbers together\n",
      "\n",
      "\n",
      "Help on function adder in module __main__:\n",
      "\n",
      "adder(a: int, b: int, /) -> int\n",
      "    This function adds 2 numbers together\n",
      "\n"
     ]
    }
   ],
   "source": [
    "def adder(a:int, b:int,/) -> int:\n",
    "    \"\"\"This function adds 2 numbers together\"\"\"\n",
    "    return a + b\n",
    "\n",
    "sign = signature(adder)\n",
    "print(adder.__name__,\n",
    "     sign,\n",
    "     adder.__doc__, \"\\n\",\n",
    "     sep=\"\\n\")\n",
    "help(adder)"
   ]
  },
  {
   "cell_type": "markdown",
   "id": "953be7ba",
   "metadata": {},
   "source": [
    "Now, lets modify out wrapper"
   ]
  },
  {
   "cell_type": "code",
   "execution_count": 65,
   "id": "6ae9edfa",
   "metadata": {},
   "outputs": [],
   "source": [
    "from functools import wraps\n",
    "\n",
    "def wrapper(fn):\n",
    "    counter = 0\n",
    "    @wraps(fn)\n",
    "    def run_and_count(*args, **kwargs):\n",
    "        \"\"\"This is a wrapper for run counting\"\"\"\n",
    "        nonlocal counter\n",
    "        counter += 1\n",
    "        fn(*args, **kwargs)\n",
    "        print (\"{0} function ran {1} times.\".format(fn.__name__, counter))\n",
    "    return run_and_count"
   ]
  },
  {
   "cell_type": "code",
   "execution_count": 66,
   "id": "73c4899a",
   "metadata": {},
   "outputs": [
    {
     "name": "stdout",
     "output_type": "stream",
     "text": [
      "adder function ran 1 times.\n",
      "adder function ran 2 times.\n",
      "adder function ran 3 times.\n",
      "adder function ran 4 times.\n"
     ]
    }
   ],
   "source": [
    "adder = wrapper(adder)\n",
    "\n",
    "for i in range(1,5):\n",
    "    adder(5, 2 * i)"
   ]
  },
  {
   "cell_type": "code",
   "execution_count": 67,
   "id": "b747e63b",
   "metadata": {},
   "outputs": [
    {
     "name": "stdout",
     "output_type": "stream",
     "text": [
      "adder\n",
      "(a: int, b: int, /) -> int\n",
      "This function adds 2 numbers together\n",
      "\n",
      "\n",
      "Help on function adder in module __main__:\n",
      "\n",
      "adder(a: int, b: int, /) -> int\n",
      "    This function adds 2 numbers together\n",
      "\n"
     ]
    }
   ],
   "source": [
    "sign = signature(adder)\n",
    "print(adder.__name__,\n",
    "     sign,\n",
    "     adder.__doc__, \"\\n\",\n",
    "     sep=\"\\n\")\n",
    "help(adder)"
   ]
  },
  {
   "cell_type": "markdown",
   "id": "bdb2cbb4",
   "metadata": {},
   "source": [
    "Description was restored, functionality added. Success.\n",
    "This practice is so common in Python, the `@` token is used just for this purpose."
   ]
  },
  {
   "cell_type": "code",
   "execution_count": 68,
   "id": "64164b96",
   "metadata": {},
   "outputs": [
    {
     "name": "stdout",
     "output_type": "stream",
     "text": [
      "mul function ran 1 times.\n",
      "mul function ran 2 times.\n",
      "mul function ran 3 times.\n",
      "mul function ran 4 times.\n",
      "mul function ran 5 times.\n",
      "\n",
      "\n",
      "mul\n",
      "(a: int, b: int, /) -> int\n",
      "This function multiplies 2 numbers together\n",
      "\n",
      "\n",
      "Help on function mul in module __main__:\n",
      "\n",
      "mul(a: int, b: int, /) -> int\n",
      "    This function multiplies 2 numbers together\n",
      "\n"
     ]
    }
   ],
   "source": [
    "@wrapper\n",
    "def mul(a:int, b:int,/) -> int:\n",
    "    \"\"\"This function multiplies 2 numbers together\"\"\"\n",
    "    return a * b\n",
    "\n",
    "for i in range(1,6):\n",
    "    mul(3, i)\n",
    "    \n",
    "sign = signature(mul)\n",
    "print(\"\\n\",\n",
    "     mul.__name__,\n",
    "     sign,\n",
    "     mul.__doc__, \"\\n\",\n",
    "     sep=\"\\n\")\n",
    "help(mul)"
   ]
  }
 ],
 "metadata": {
  "kernelspec": {
   "display_name": "Python 3 (ipykernel)",
   "language": "python",
   "name": "python3"
  },
  "language_info": {
   "codemirror_mode": {
    "name": "ipython",
    "version": 3
   },
   "file_extension": ".py",
   "mimetype": "text/x-python",
   "name": "python",
   "nbconvert_exporter": "python",
   "pygments_lexer": "ipython3",
   "version": "3.10.12"
  }
 },
 "nbformat": 4,
 "nbformat_minor": 5
}

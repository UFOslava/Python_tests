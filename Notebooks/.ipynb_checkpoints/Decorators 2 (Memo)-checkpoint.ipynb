{
 "cells": [
  {
   "cell_type": "markdown",
   "id": "b87236ca",
   "metadata": {},
   "source": [
    "# Decorators (Memoization)\n",
    "### No, it is not a typo.\n",
    "Decorators can do advanced functionality, like caching."
   ]
  },
  {
   "cell_type": "markdown",
   "id": "a6ff2415",
   "metadata": {},
   "source": []
  }
 ],
 "metadata": {
  "kernelspec": {
   "display_name": "Python 3 (ipykernel)",
   "language": "python",
   "name": "python3"
  },
  "language_info": {
   "codemirror_mode": {
    "name": "ipython",
    "version": 3
   },
   "file_extension": ".py",
   "mimetype": "text/x-python",
   "name": "python",
   "nbconvert_exporter": "python",
   "pygments_lexer": "ipython3",
   "version": "3.10.12"
  }
 },
 "nbformat": 4,
 "nbformat_minor": 5
}

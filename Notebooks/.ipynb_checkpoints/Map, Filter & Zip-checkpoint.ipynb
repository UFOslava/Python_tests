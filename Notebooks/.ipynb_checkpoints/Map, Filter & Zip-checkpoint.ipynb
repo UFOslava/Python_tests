{
 "cells": [
  {
   "cell_type": "markdown",
   "id": "6b8202db",
   "metadata": {},
   "source": [
    "# Map, Filter & Zip\n",
    "### High order functions, running on demand only\n",
    "Higher order functions: Functions that accept or return a function as a parameter.\n",
    "Lambda functions are also accepted.\n",
    "## Map:\n",
    "Run* a function in the first param, with lists in the \\*args param, iterated by the shortest list lenght.\n",
    "\n",
    "Map function does not perform the action until iterated on."
   ]
  },
  {
   "cell_type": "code",
   "execution_count": 1,
   "id": "bfdfc2bb",
   "metadata": {},
   "outputs": [],
   "source": [
    "def func1(x):\n",
    "    return x+2"
   ]
  },
  {
   "cell_type": "code",
   "execution_count": 3,
   "id": "47639c91",
   "metadata": {},
   "outputs": [
    {
     "data": {
      "text/plain": [
       "<map at 0x7ce997e678b0>"
      ]
     },
     "execution_count": 3,
     "metadata": {},
     "output_type": "execute_result"
    }
   ],
   "source": [
    "map1 = map(func1, range(10))\n",
    "map1"
   ]
  },
  {
   "cell_type": "code",
   "execution_count": 4,
   "id": "b7a4870c",
   "metadata": {},
   "outputs": [
    {
     "name": "stdout",
     "output_type": "stream",
     "text": [
      "[2, 3, 4, 5, 6, 7, 8, 9, 10, 11]\n"
     ]
    }
   ],
   "source": [
    "print(list(map1))"
   ]
  },
  {
   "cell_type": "markdown",
   "id": "e5d18d84",
   "metadata": {},
   "source": [
    "Once iterated, the map object is destroyed (unlike Range object)\n",
    "\n",
    "It can only be used once."
   ]
  },
  {
   "cell_type": "code",
   "execution_count": 5,
   "id": "df5b26dd",
   "metadata": {},
   "outputs": [
    {
     "name": "stdout",
     "output_type": "stream",
     "text": [
      "[]\n"
     ]
    }
   ],
   "source": [
    "print(list(map1))"
   ]
  },
  {
   "cell_type": "markdown",
   "id": "493ede74",
   "metadata": {},
   "source": [
    "## Filter\n",
    "Filter iterates a list, and evaluates each value in the list with the supplied function.\n",
    "\n",
    "Filtering occures only upon request."
   ]
  },
  {
   "cell_type": "code",
   "execution_count": 7,
   "id": "d2e950b4",
   "metadata": {},
   "outputs": [
    {
     "data": {
      "text/plain": [
       "[0, 1, 2, 3, 4, 5, 6, 7, 8, 9]"
      ]
     },
     "execution_count": 7,
     "metadata": {},
     "output_type": "execute_result"
    }
   ],
   "source": [
    "l1 = list(range(10))\n",
    "l1"
   ]
  },
  {
   "cell_type": "code",
   "execution_count": 12,
   "id": "a0c64d70",
   "metadata": {},
   "outputs": [
    {
     "data": {
      "text/plain": [
       "<filter at 0x7ce97d1cc070>"
      ]
     },
     "execution_count": 12,
     "metadata": {},
     "output_type": "execute_result"
    }
   ],
   "source": [
    "Result = filter(lambda x: not (x % 2),l1) # Find EVEN elements of a list of INTs\n",
    "Result"
   ]
  },
  {
   "cell_type": "markdown",
   "id": "e0c59b7d",
   "metadata": {},
   "source": [
    "Filter is created, but the evaluation did not occur. Evaluation is performed upon iteration."
   ]
  },
  {
   "cell_type": "code",
   "execution_count": 13,
   "id": "5a5a3c16",
   "metadata": {},
   "outputs": [
    {
     "name": "stdout",
     "output_type": "stream",
     "text": [
      "[0, 2, 4, 6, 8]\n"
     ]
    }
   ],
   "source": [
    "print(list(Result))"
   ]
  },
  {
   "cell_type": "markdown",
   "id": "f3c1c4f2",
   "metadata": {},
   "source": [
    "### Zip\n",
    "Zip function accepts lists, and returns touples of each lists elements per iteration, upon iteration."
   ]
  },
  {
   "cell_type": "code",
   "execution_count": 15,
   "id": "d2726d19",
   "metadata": {},
   "outputs": [
    {
     "data": {
      "text/plain": [
       "[0, 1, 2, 3, 4, 5, 6, 7, 8, 9]"
      ]
     },
     "execution_count": 15,
     "metadata": {},
     "output_type": "execute_result"
    }
   ],
   "source": [
    "l1"
   ]
  },
  {
   "cell_type": "code",
   "execution_count": 16,
   "id": "69338727",
   "metadata": {},
   "outputs": [
    {
     "data": {
      "text/plain": [
       "[0, 2, 4, 6, 8, 10, 12, 14, 16, 18]"
      ]
     },
     "execution_count": 16,
     "metadata": {},
     "output_type": "execute_result"
    }
   ],
   "source": [
    "l2 = list(range(20))[::2]\n",
    "l2"
   ]
  },
  {
   "cell_type": "code",
   "execution_count": 17,
   "id": "dd9b3b0c",
   "metadata": {},
   "outputs": [
    {
     "data": {
      "text/plain": [
       "'Hello World'"
      ]
     },
     "execution_count": 17,
     "metadata": {},
     "output_type": "execute_result"
    }
   ],
   "source": [
    "l3 = \"Hello World\"\n",
    "l3"
   ]
  },
  {
   "cell_type": "code",
   "execution_count": 29,
   "id": "bc69df6d",
   "metadata": {},
   "outputs": [
    {
     "data": {
      "text/plain": [
       "<zip at 0x7ce97cc355c0>"
      ]
     },
     "execution_count": 29,
     "metadata": {},
     "output_type": "execute_result"
    }
   ],
   "source": [
    "list_zipper = zip(l1, l2, l3)\n",
    "list_zipper"
   ]
  },
  {
   "cell_type": "markdown",
   "id": "4f959bd1",
   "metadata": {},
   "source": [
    "\"Zipping\" of the lists occurs upon iteration."
   ]
  },
  {
   "cell_type": "code",
   "execution_count": 30,
   "id": "469ca721",
   "metadata": {},
   "outputs": [
    {
     "name": "stdout",
     "output_type": "stream",
     "text": [
      "(0, 0, 'H') -> <class 'tuple'>\n",
      "(1, 2, 'e') -> <class 'tuple'>\n",
      "(2, 4, 'l') -> <class 'tuple'>\n",
      "(3, 6, 'l') -> <class 'tuple'>\n",
      "(4, 8, 'o') -> <class 'tuple'>\n",
      "(5, 10, ' ') -> <class 'tuple'>\n",
      "(6, 12, 'W') -> <class 'tuple'>\n",
      "(7, 14, 'o') -> <class 'tuple'>\n",
      "(8, 16, 'r') -> <class 'tuple'>\n",
      "(9, 18, 'l') -> <class 'tuple'>\n"
     ]
    }
   ],
   "source": [
    "zipped_list = list(list_zipper) # The \"zipping\" occurs here\n",
    "for item in zipped_list:\n",
    "    print(item ,type(item), sep = \" -> \", end=\"\\n\")"
   ]
  },
  {
   "cell_type": "markdown",
   "id": "5e738e0e",
   "metadata": {},
   "source": [
    "### List comprehension\n",
    "Technically, all of the above can be performed using a generator object or list comprehension, but unlike the functions above, all possible elements of the list will be generated at once. This consumes cycles to generate data that may never be used.\n",
    "\n",
    "##### Syntax:\n",
    "\\[`action` for `item` in `list` if `expression`\\]"
   ]
  },
  {
   "cell_type": "code",
   "execution_count": 32,
   "id": "6337bc66",
   "metadata": {},
   "outputs": [
    {
     "data": {
      "text/plain": [
       "[0, 3, 6, 9, 12, 15, 18, 21, 24, 27]"
      ]
     },
     "execution_count": 32,
     "metadata": {},
     "output_type": "execute_result"
    }
   ],
   "source": [
    "l4 = list(range(30))\n",
    "l4_gen = [x for x in l4 if x % 3 == 0]\n",
    "l4_gen"
   ]
  },
  {
   "cell_type": "markdown",
   "id": "1ea9212d",
   "metadata": {},
   "source": [
    "\"Action\" can be a function or lambda"
   ]
  },
  {
   "cell_type": "code",
   "execution_count": 36,
   "id": "1c14b4fa",
   "metadata": {},
   "outputs": [
    {
     "data": {
      "text/plain": [
       "[0, 9, 36, 81, 144, 225, 324, 441, 576, 729]"
      ]
     },
     "execution_count": 36,
     "metadata": {},
     "output_type": "execute_result"
    }
   ],
   "source": [
    "l4_gen = [(lambda x: x**2)(x) for x in l4 if x % 3 == 0]\n",
    "l4_gen"
   ]
  },
  {
   "cell_type": "markdown",
   "id": "4fbac7f4",
   "metadata": {},
   "source": [
    "List comprehension can be made into a generator expression"
   ]
  },
  {
   "cell_type": "code",
   "execution_count": 42,
   "id": "f0c04198",
   "metadata": {},
   "outputs": [
    {
     "data": {
      "text/plain": [
       "<generator object <genexpr> at 0x7ce97c839770>"
      ]
     },
     "execution_count": 42,
     "metadata": {},
     "output_type": "execute_result"
    }
   ],
   "source": [
    "l4_gen = (x for x in l4 if x % 3 == 0)\n",
    "l4_gen"
   ]
  },
  {
   "cell_type": "code",
   "execution_count": 43,
   "id": "a96c4382",
   "metadata": {},
   "outputs": [
    {
     "name": "stdout",
     "output_type": "stream",
     "text": [
      "[0, 3, 6, 9, 12, 15, 18, 21, 24, 27]\n"
     ]
    }
   ],
   "source": [
    "print(list(l4_gen))"
   ]
  },
  {
   "cell_type": "markdown",
   "id": "333a7528",
   "metadata": {},
   "source": [
    "Generator objects too \"expire\" after use."
   ]
  },
  {
   "cell_type": "code",
   "execution_count": 44,
   "id": "7bbaff8c",
   "metadata": {},
   "outputs": [
    {
     "name": "stdout",
     "output_type": "stream",
     "text": [
      "[]\n"
     ]
    }
   ],
   "source": [
    "print(list(l4_gen))"
   ]
  }
 ],
 "metadata": {
  "kernelspec": {
   "display_name": "Python 3 (ipykernel)",
   "language": "python",
   "name": "python3"
  },
  "language_info": {
   "codemirror_mode": {
    "name": "ipython",
    "version": 3
   },
   "file_extension": ".py",
   "mimetype": "text/x-python",
   "name": "python",
   "nbconvert_exporter": "python",
   "pygments_lexer": "ipython3",
   "version": "3.10.12"
  }
 },
 "nbformat": 4,
 "nbformat_minor": 5
}

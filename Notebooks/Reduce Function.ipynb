{
 "cells": [
  {
   "cell_type": "markdown",
   "id": "fa4ca921",
   "metadata": {},
   "source": [
    "# Reduce Function\n",
    "Reduce is similar to `map` function, but the supplied function shall contain 2 parameters, one of which shall be the result of the previous iteration.\n",
    "\n",
    "The first element of the list is assumed to be an initial value, and the list iteration starts at **element 1**\n",
    "\n",
    "If there are less than 2 elements in the list, an exception occurs."
   ]
  },
  {
   "cell_type": "code",
   "execution_count": 11,
   "id": "81e97961",
   "metadata": {},
   "outputs": [
    {
     "name": "stdout",
     "output_type": "stream",
     "text": [
      "[1, 2, 3, 4, 5, 6, 7, 8]\n"
     ]
    },
    {
     "data": {
      "text/plain": [
       "40320"
      ]
     },
     "execution_count": 11,
     "metadata": {},
     "output_type": "execute_result"
    }
   ],
   "source": [
    "from functools import reduce\n",
    "l1 = list(range(1,9))\n",
    "print(l1)\n",
    "reduce(lambda x, y: x * y, l1) # factorial"
   ]
  },
  {
   "cell_type": "markdown",
   "id": "df71dafc",
   "metadata": {},
   "source": [
    "Some built-in functions are similar to `reduce`, and completely autonomous"
   ]
  },
  {
   "cell_type": "code",
   "execution_count": 9,
   "id": "02e299e2",
   "metadata": {},
   "outputs": [
    {
     "name": "stdout",
     "output_type": "stream",
     "text": [
      "8\n",
      "1\n",
      "36\n"
     ]
    }
   ],
   "source": [
    "print(\\\n",
    "     max(l1), # get maximum value\n",
    "     min(l1), # minimum value\n",
    "     sum(l1), # total of the iterable\n",
    "     sep=\"\\n\")"
   ]
  },
  {
   "cell_type": "markdown",
   "id": "4af79307",
   "metadata": {},
   "source": [
    "The `reduce` function has an initializer variable, that acts as an initial value of the list, and the list is iterated from **index 0** instead of **1**\n",
    "\n",
    "the initializer allows the `reduce` function to accept empty lists or lists of 1 element."
   ]
  },
  {
   "cell_type": "code",
   "execution_count": 21,
   "id": "4cee9191",
   "metadata": {},
   "outputs": [
    {
     "data": {
      "text/plain": [
       "8"
      ]
     },
     "execution_count": 21,
     "metadata": {},
     "output_type": "execute_result"
    }
   ],
   "source": [
    "reduce(lambda x, y: x if x > y else y, l1, -5) # The initializer is the last argument."
   ]
  },
  {
   "cell_type": "code",
   "execution_count": 22,
   "id": "a487afd1",
   "metadata": {},
   "outputs": [
    {
     "name": "stdout",
     "output_type": "stream",
     "text": [
      "41\n",
      "41\n"
     ]
    }
   ],
   "source": [
    "print(sum(l1) + 5)\n",
    "print(reduce(lambda x, y: x + y, l1, 5)) # '5' is the initial value of the sum"
   ]
  },
  {
   "cell_type": "code",
   "execution_count": 23,
   "id": "d1ddbfc2",
   "metadata": {},
   "outputs": [
    {
     "data": {
      "text/plain": [
       "5"
      ]
     },
     "execution_count": 23,
     "metadata": {},
     "output_type": "execute_result"
    }
   ],
   "source": [
    "l2 = [] # Empty list example\n",
    "reduce(lambda x, y: x + y, l2, 5)"
   ]
  },
  {
   "cell_type": "code",
   "execution_count": 25,
   "id": "0fd5dfe7",
   "metadata": {},
   "outputs": [
    {
     "name": "stdout",
     "output_type": "stream",
     "text": [
      "Help on class partial in module functools:\n",
      "\n",
      "class partial(builtins.object)\n",
      " |  partial(func, *args, **keywords) - new function with partial application\n",
      " |  of the given arguments and keywords.\n",
      " |  \n",
      " |  Methods defined here:\n",
      " |  \n",
      " |  __call__(self, /, *args, **kwargs)\n",
      " |      Call self as a function.\n",
      " |  \n",
      " |  __delattr__(self, name, /)\n",
      " |      Implement delattr(self, name).\n",
      " |  \n",
      " |  __getattribute__(self, name, /)\n",
      " |      Return getattr(self, name).\n",
      " |  \n",
      " |  __reduce__(...)\n",
      " |      Helper for pickle.\n",
      " |  \n",
      " |  __repr__(self, /)\n",
      " |      Return repr(self).\n",
      " |  \n",
      " |  __setattr__(self, name, value, /)\n",
      " |      Implement setattr(self, name, value).\n",
      " |  \n",
      " |  __setstate__(...)\n",
      " |  \n",
      " |  ----------------------------------------------------------------------\n",
      " |  Class methods defined here:\n",
      " |  \n",
      " |  __class_getitem__(...) from builtins.type\n",
      " |      See PEP 585\n",
      " |  \n",
      " |  ----------------------------------------------------------------------\n",
      " |  Static methods defined here:\n",
      " |  \n",
      " |  __new__(*args, **kwargs) from builtins.type\n",
      " |      Create and return a new object.  See help(type) for accurate signature.\n",
      " |  \n",
      " |  ----------------------------------------------------------------------\n",
      " |  Data descriptors defined here:\n",
      " |  \n",
      " |  __dict__\n",
      " |  \n",
      " |  __vectorcalloffset__\n",
      " |  \n",
      " |  args\n",
      " |      tuple of arguments to future partial calls\n",
      " |  \n",
      " |  func\n",
      " |      function object to use in future partial calls\n",
      " |  \n",
      " |  keywords\n",
      " |      dictionary of keyword arguments to future partial calls\n",
      "\n"
     ]
    }
   ],
   "source": [
    "from functools import partial\n",
    "help(partial)"
   ]
  }
 ],
 "metadata": {
  "kernelspec": {
   "display_name": "Python 3 (ipykernel)",
   "language": "python",
   "name": "python3"
  },
  "language_info": {
   "codemirror_mode": {
    "name": "ipython",
    "version": 3
   },
   "file_extension": ".py",
   "mimetype": "text/x-python",
   "name": "python",
   "nbconvert_exporter": "python",
   "pygments_lexer": "ipython3",
   "version": "3.10.12"
  }
 },
 "nbformat": 4,
 "nbformat_minor": 5
}

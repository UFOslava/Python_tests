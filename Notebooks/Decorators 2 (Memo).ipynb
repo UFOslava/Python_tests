{
 "cells": [
  {
   "cell_type": "markdown",
   "id": "b87236ca",
   "metadata": {},
   "source": [
    "# Decorators (Memoization)\n",
    "### No, it is not a typo.\n",
    "Decorators can do advanced functionality, like caching."
   ]
  },
  {
   "cell_type": "markdown",
   "id": "0ab545c2",
   "metadata": {},
   "source": [
    "Lets define a simple function"
   ]
  },
  {
   "cell_type": "code",
   "execution_count": 5,
   "id": "ff6ee038",
   "metadata": {},
   "outputs": [
    {
     "name": "stdout",
     "output_type": "stream",
     "text": [
      "calculationg Fib for 8\n",
      "calculationg Fib for 7\n",
      "calculationg Fib for 6\n",
      "calculationg Fib for 5\n",
      "calculationg Fib for 4\n",
      "calculationg Fib for 3\n",
      "calculationg Fib for 3\n",
      "calculationg Fib for 4\n",
      "calculationg Fib for 3\n",
      "calculationg Fib for 5\n",
      "calculationg Fib for 4\n",
      "calculationg Fib for 3\n",
      "calculationg Fib for 3\n",
      "calculationg Fib for 6\n",
      "calculationg Fib for 5\n",
      "calculationg Fib for 4\n",
      "calculationg Fib for 3\n",
      "calculationg Fib for 3\n",
      "calculationg Fib for 4\n",
      "calculationg Fib for 3\n"
     ]
    },
    {
     "data": {
      "text/plain": [
       "21"
      ]
     },
     "execution_count": 5,
     "metadata": {},
     "output_type": "execute_result"
    }
   ],
   "source": [
    "def fib(target: int) -> int:\n",
    "    \"\"\"This function generates a Fibonacci sequence item, specified by `target`\"\"\"\n",
    "    if target == 0:\n",
    "        return 0\n",
    "    elif target <= 2:\n",
    "        return 1\n",
    "    else:\n",
    "        print(\"calculationg Fib for {0}\".format(target))\n",
    "        return fib(target - 1) + fib(target - 2)\n",
    "\n",
    "fib(8)\n"
   ]
  },
  {
   "cell_type": "markdown",
   "id": "2c2f4182",
   "metadata": {},
   "source": [
    "What a mess, this recursion did alot of repeptitve work. Just look how many times we calculated Fib of number 3! With large numbers this will quickly accumulate!\n",
    "\n",
    "Lets add a memoization wrapper to it."
   ]
  },
  {
   "cell_type": "code",
   "execution_count": 10,
   "id": "e31b4d44",
   "metadata": {},
   "outputs": [
    {
     "name": "stdout",
     "output_type": "stream",
     "text": [
      "Calculating Fib for 10\n",
      "Calculating Fib for 9\n",
      "Calculating Fib for 8\n",
      "Calculating Fib for 7\n",
      "Calculating Fib for 6\n",
      "Calculating Fib for 5\n",
      "Calculating Fib for 4\n",
      "Calculating Fib for 3\n",
      "   Stored Fib of 2\n",
      "   Stored Fib of 1\n",
      "   Stored Fib of 3\n",
      "Retrieved Fib of 2\n",
      "   Stored Fib of 4\n",
      "Retrieved Fib of 3\n",
      "   Stored Fib of 5\n",
      "Retrieved Fib of 4\n",
      "   Stored Fib of 6\n",
      "Retrieved Fib of 5\n",
      "   Stored Fib of 7\n",
      "Retrieved Fib of 6\n",
      "   Stored Fib of 8\n",
      "Retrieved Fib of 7\n",
      "   Stored Fib of 9\n",
      "Retrieved Fib of 8\n",
      "   Stored Fib of 10\n"
     ]
    },
    {
     "data": {
      "text/plain": [
       "55"
      ]
     },
     "execution_count": 10,
     "metadata": {},
     "output_type": "execute_result"
    }
   ],
   "source": [
    "def memory(fn):\n",
    "    from functools import wraps\n",
    "    dict1 = dict()\n",
    "    @wraps(fn)\n",
    "    def inner(target):\n",
    "        if target in dict1:\n",
    "            print(\"Retrieved Fib of {0}\".format(target))\n",
    "        else:\n",
    "            dict1[target] = fn(target)\n",
    "            print(\"   Stored Fib of {0}\".format(target))\n",
    "        return dict1[target]\n",
    "    return inner\n",
    "\n",
    "@memory\n",
    "def fib(target: int) -> int:\n",
    "    \"\"\"This function generates a Fibonacci sequence item, specified by `target`\"\"\"\n",
    "    if target == 0:\n",
    "        return 0\n",
    "    elif target <= 2:\n",
    "        return 1\n",
    "    else:\n",
    "        print(\"Calculating Fib for {0}\".format(target))\n",
    "        return fib(target - 1) + fib(target - 2)\n",
    "    \n",
    "fib(10)"
   ]
  },
  {
   "cell_type": "markdown",
   "id": "a18f2419",
   "metadata": {},
   "source": [
    "Much better, just a fraction of calculations.\n",
    "\n",
    "Is the metadata preserved?"
   ]
  },
  {
   "cell_type": "code",
   "execution_count": 12,
   "id": "ecbad2c5",
   "metadata": {},
   "outputs": [
    {
     "name": "stdout",
     "output_type": "stream",
     "text": [
      "Help on function fib in module __main__:\n",
      "\n",
      "fib(target: int) -> int\n",
      "    This function generates a Fibonacci sequence item, specified by `target`\n",
      "\n"
     ]
    }
   ],
   "source": [
    "help(fib)"
   ]
  },
  {
   "cell_type": "markdown",
   "id": "c2ac6204",
   "metadata": {},
   "source": [
    "Sure is!"
   ]
  },
  {
   "cell_type": "markdown",
   "id": "6735df72",
   "metadata": {},
   "source": [
    "What if we want to pass an argument to the decorator, like with `wraps`? Well, we'll have to make a...\n",
    "# Decorator Factory\n",
    "Factory is made with 2 nested functions: factory(decorator(function(call)))"
   ]
  },
  {
   "cell_type": "code",
   "execution_count": 17,
   "id": "ae3aecdf",
   "metadata": {},
   "outputs": [
    {
     "name": "stdout",
     "output_type": "stream",
     "text": [
      "Calculating Fib for 10\n",
      "Calculating Fib for 9\n",
      "Calculating Fib for 8\n",
      "Calculating Fib for 7\n",
      "Calculating Fib for 6\n",
      "Calculating Fib for 5\n",
      "Calculating Fib for 4\n",
      "Calculating Fib for 3\n",
      "Storing value for 2\n",
      "Storing value for 1\n",
      "Storing value for 3\n",
      "Retrieving value for 2\n",
      "Storing value for 4\n",
      "Retrieving value for 3\n",
      "Storing value for 5\n",
      "Retrieving value for 4\n",
      "Storing value for 6\n",
      "Retrieving value for 5\n",
      "Unable to store value for 7, memory is full\n",
      "Retrieving value for 6\n",
      "Unable to store value for 8, memory is full\n",
      "Calculating Fib for 7\n",
      "Retrieving value for 6\n",
      "Retrieving value for 5\n",
      "Unable to store value for 7, memory is full\n",
      "Unable to store value for 9, memory is full\n",
      "Calculating Fib for 8\n",
      "Calculating Fib for 7\n",
      "Retrieving value for 6\n",
      "Retrieving value for 5\n",
      "Unable to store value for 7, memory is full\n",
      "Retrieving value for 6\n",
      "Unable to store value for 8, memory is full\n",
      "Unable to store value for 10, memory is full\n",
      "Help on function fib in module __main__:\n",
      "\n",
      "fib(target: int) -> int\n",
      "    This function generates a Fibonacci sequence item, specified by `target`\n",
      "\n"
     ]
    }
   ],
   "source": [
    "def memory(max_items: int = 8):\n",
    "    \"\"\"This is a memory decorator factory\"\"\"\n",
    "    def memory1(fn):\n",
    "        \"\"\"This is a memory decorator generator\"\"\"\n",
    "        from functools import wraps\n",
    "        dict1 = dict()\n",
    "        @wraps(fn)\n",
    "        def inner(target: int):\n",
    "            \"\"\"This is a memory decorating function\"\"\"\n",
    "            if target in dict1:\n",
    "                print(\"Retrieving value for {0}\".format(target))\n",
    "                value = dict1[target]\n",
    "            else:\n",
    "                value = fn(target)\n",
    "                if len(dict1) >= max_items:\n",
    "                    print(\"Unable to store value for {0}, memory is full\".format(target))\n",
    "                else:\n",
    "                    print(\"Storing value for {0}\".format(target))\n",
    "                    dict1[target] = value\n",
    "            return value\n",
    "        return inner\n",
    "    return memory1\n",
    "\n",
    "@memory(6)\n",
    "def fib(target: int) -> int:\n",
    "    \"\"\"This function generates a Fibonacci sequence item, specified by `target`\"\"\"\n",
    "    if target == 0:\n",
    "        return 0\n",
    "    elif target <= 2:\n",
    "        return 1\n",
    "    else:\n",
    "        print(\"Calculating Fib for {0}\".format(target))\n",
    "        return fib(target - 1) + fib(target - 2)\n",
    "    \n",
    "fib(10)\n",
    "help(fib)"
   ]
  },
  {
   "cell_type": "markdown",
   "id": "ea339116",
   "metadata": {},
   "source": [
    "We can see that larger items had to be regenerated because the given function memory limit was reached. It was specified via decorator factory parameter. This function call is nested, so if we would call it in a traditional way, it would look like this:"
   ]
  },
  {
   "cell_type": "code",
   "execution_count": 19,
   "id": "61c85971",
   "metadata": {},
   "outputs": [
    {
     "name": "stdout",
     "output_type": "stream",
     "text": [
      "Calculating Fib for 10\n",
      "Calculating Fib for 9\n",
      "Calculating Fib for 8\n",
      "Calculating Fib for 7\n",
      "Calculating Fib for 6\n",
      "Calculating Fib for 5\n",
      "Calculating Fib for 4\n",
      "Calculating Fib for 3\n",
      "Storing value for 2\n",
      "Storing value for 1\n",
      "Storing value for 3\n",
      "Retrieving value for 2\n",
      "Storing value for 4\n",
      "Retrieving value for 3\n",
      "Storing value for 5\n",
      "Retrieving value for 4\n",
      "Storing value for 6\n",
      "Retrieving value for 5\n",
      "Unable to store value for 7, memory is full\n",
      "Retrieving value for 6\n",
      "Unable to store value for 8, memory is full\n",
      "Calculating Fib for 7\n",
      "Retrieving value for 6\n",
      "Retrieving value for 5\n",
      "Unable to store value for 7, memory is full\n",
      "Unable to store value for 9, memory is full\n",
      "Calculating Fib for 8\n",
      "Calculating Fib for 7\n",
      "Retrieving value for 6\n",
      "Retrieving value for 5\n",
      "Unable to store value for 7, memory is full\n",
      "Retrieving value for 6\n",
      "Unable to store value for 8, memory is full\n",
      "Unable to store value for 10, memory is full\n",
      "Help on function fib in module __main__:\n",
      "\n",
      "fib(target: int) -> int\n",
      "    This function generates a Fibonacci sequence item, specified by `target`\n",
      "\n"
     ]
    }
   ],
   "source": [
    "def fib(target: int) -> int:\n",
    "    \"\"\"This function generates a Fibonacci sequence item, specified by `target`\"\"\"\n",
    "    if target == 0:\n",
    "        return 0\n",
    "    elif target <= 2:\n",
    "        return 1\n",
    "    else:\n",
    "        print(\"Calculating Fib for {0}\".format(target))\n",
    "        return fib(target - 1) + fib(target - 2)\n",
    "\n",
    "fib = memory(6)(fib) # o_O\n",
    "\n",
    "fib(10)\n",
    "help(fib)"
   ]
  },
  {
   "cell_type": "markdown",
   "id": "fd766507",
   "metadata": {},
   "source": [
    "This weird syntax works. It's weird like that because functions are objects."
   ]
  }
 ],
 "metadata": {
  "kernelspec": {
   "display_name": "Python 3 (ipykernel)",
   "language": "python",
   "name": "python3"
  },
  "language_info": {
   "codemirror_mode": {
    "name": "ipython",
    "version": 3
   },
   "file_extension": ".py",
   "mimetype": "text/x-python",
   "name": "python",
   "nbconvert_exporter": "python",
   "pygments_lexer": "ipython3",
   "version": "3.10.12"
  }
 },
 "nbformat": 4,
 "nbformat_minor": 5
}

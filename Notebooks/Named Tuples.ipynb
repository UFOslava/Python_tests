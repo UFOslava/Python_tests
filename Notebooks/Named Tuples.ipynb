{
 "cells": [
  {
   "cell_type": "markdown",
   "id": "fc8284ca",
   "metadata": {},
   "source": [
    "There is a built-in class for extending tuples functionality. It adds the ability to refer to tuple items by name, making tuples act like data structure, akin of a class."
   ]
  },
  {
   "cell_type": "code",
   "execution_count": 5,
   "id": "f2d7b6b2",
   "metadata": {},
   "outputs": [],
   "source": [
    "from collections import namedtuple\n",
    "PersonalRecord = namedtuple(\"PersonalRecord\", field_names = \"FirstName LastName ID\")"
   ]
  },
  {
   "cell_type": "markdown",
   "id": "655ccf67",
   "metadata": {},
   "source": [
    "Note that the first argument is a name of the tuple, the second argument can be a white-space-separated string, a list or some other*"
   ]
  },
  {
   "cell_type": "code",
   "execution_count": 8,
   "id": "256ba972",
   "metadata": {},
   "outputs": [
    {
     "data": {
      "text/plain": [
       "PersonalRecord(FirstName='Slava', LastName='Thereshin', ID='132465')"
      ]
     },
     "execution_count": 8,
     "metadata": {},
     "output_type": "execute_result"
    }
   ],
   "source": [
    "pr = PersonalRecord(\"Slava\",\"Thereshin\",\"132465\")\n",
    "pr"
   ]
  },
  {
   "cell_type": "markdown",
   "id": "28e8c976",
   "metadata": {},
   "source": [
    "Now we can use our new record as a tuple and as a class, it terms of accessing the data."
   ]
  },
  {
   "cell_type": "code",
   "execution_count": 16,
   "id": "fb4b0012",
   "metadata": {},
   "outputs": [
    {
     "name": "stdout",
     "output_type": "stream",
     "text": [
      "132465\n",
      "Slava\n",
      "Thereshin\n",
      "\n",
      "Slava\n",
      "Thereshin\n",
      "132465\n",
      "\n"
     ]
    }
   ],
   "source": [
    "print(pr.ID, # Accessible by field names\n",
    "      pr.FirstName,\n",
    "      pr[1], # Supports slicing\n",
    "      sep=\"\\n\", end=\"\\n\\n\")\n",
    "\n",
    "FN, LN, ID = pr # Unpacks as a tuple :D\n",
    "print(FN, LN, ID, sep=\"\\n\", end=\"\\n\\n\")"
   ]
  },
  {
   "cell_type": "markdown",
   "id": "7db0847b",
   "metadata": {},
   "source": [
    "Can be passed as touple into... tuple receiving functions."
   ]
  },
  {
   "cell_type": "code",
   "execution_count": 18,
   "id": "50bc475b",
   "metadata": {},
   "outputs": [
    {
     "data": {
      "text/plain": [
       "True"
      ]
     },
     "execution_count": 18,
     "metadata": {},
     "output_type": "execute_result"
    }
   ],
   "source": [
    "isinstance(pr, tuple)"
   ]
  }
 ],
 "metadata": {
  "kernelspec": {
   "display_name": "Python 3 (ipykernel)",
   "language": "python",
   "name": "python3"
  },
  "language_info": {
   "codemirror_mode": {
    "name": "ipython",
    "version": 3
   },
   "file_extension": ".py",
   "mimetype": "text/x-python",
   "name": "python",
   "nbconvert_exporter": "python",
   "pygments_lexer": "ipython3",
   "version": "3.10.12"
  }
 },
 "nbformat": 4,
 "nbformat_minor": 5
}

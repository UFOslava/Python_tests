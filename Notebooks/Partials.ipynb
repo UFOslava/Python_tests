{
 "cells": [
  {
   "cell_type": "markdown",
   "id": "a546c8c8",
   "metadata": {},
   "source": [
    "# Partials\n",
    "### Intro\n",
    "Functions require all their required parameters:"
   ]
  },
  {
   "cell_type": "code",
   "execution_count": 3,
   "id": "3fa821b5",
   "metadata": {},
   "outputs": [
    {
     "name": "stdout",
     "output_type": "stream",
     "text": [
      "10 - 20 - 30\n"
     ]
    }
   ],
   "source": [
    "def my_func(a, b, c):\n",
    "    print(a, b, c, sep=\" - \") # Lets make the printing unique\n",
    "    \n",
    "my_func(10, 20, 30)"
   ]
  },
  {
   "cell_type": "markdown",
   "id": "315a4cb6",
   "metadata": {},
   "source": [
    "If we need to supply less arguments, we can wrap it with a call and default values:"
   ]
  },
  {
   "cell_type": "code",
   "execution_count": 6,
   "id": "9686e28a",
   "metadata": {},
   "outputs": [
    {
     "name": "stdout",
     "output_type": "stream",
     "text": [
      "15 - 20 - 25\n"
     ]
    }
   ],
   "source": [
    "def my_func_15(x, y):\n",
    "    return my_func(15, x, y)\n",
    "# Insert some default values to reduce amount of arguments.\n",
    "\n",
    "my_func_15(20, 25) # 3 arguments became 2"
   ]
  },
  {
   "cell_type": "markdown",
   "id": "2b95d602",
   "metadata": {},
   "source": [
    "A `partial` function does a similar thing, and returns a callable function.\n",
    "\n",
    "By default, the `partial` function accepts the name of the required function, and fills the positional arguments in order."
   ]
  },
  {
   "cell_type": "code",
   "execution_count": 1,
   "id": "d8be0eb2",
   "metadata": {},
   "outputs": [],
   "source": [
    "from functools import partial"
   ]
  },
  {
   "cell_type": "code",
   "execution_count": 11,
   "id": "204f4407",
   "metadata": {},
   "outputs": [
    {
     "data": {
      "text/plain": [
       "functools.partial(<function my_func at 0x702eb5979360>, 50, 60)"
      ]
     },
     "execution_count": 11,
     "metadata": {},
     "output_type": "execute_result"
    }
   ],
   "source": [
    "my_func_p = partial(my_func, 50, 60)\n",
    "my_func_p"
   ]
  },
  {
   "cell_type": "markdown",
   "id": "62d95f57",
   "metadata": {},
   "source": [
    "The '50' and '60' arguments become a and b parameters, by positional assignment. "
   ]
  },
  {
   "cell_type": "code",
   "execution_count": 12,
   "id": "02b6554e",
   "metadata": {},
   "outputs": [
    {
     "name": "stdout",
     "output_type": "stream",
     "text": [
      "50 - 60 - 70\n"
     ]
    }
   ],
   "source": [
    "my_func_p(70)"
   ]
  },
  {
   "cell_type": "markdown",
   "id": "59afd00b",
   "metadata": {},
   "source": [
    "Positional arguments can be referenced as keyword arguments out of order."
   ]
  },
  {
   "cell_type": "code",
   "execution_count": 10,
   "id": "e98589e8",
   "metadata": {},
   "outputs": [
    {
     "data": {
      "text/plain": [
       "functools.partial(<function my_func at 0x702eb5979360>, 50, c=60)"
      ]
     },
     "execution_count": 10,
     "metadata": {},
     "output_type": "execute_result"
    }
   ],
   "source": [
    "my_func_p2 = partial(my_func, 50, c = 60)\n",
    "my_func_p2"
   ]
  },
  {
   "cell_type": "code",
   "execution_count": 13,
   "id": "32c666d7",
   "metadata": {},
   "outputs": [
    {
     "name": "stdout",
     "output_type": "stream",
     "text": [
      "50 - 55 - 60\n"
     ]
    }
   ],
   "source": [
    "my_func_p2(55)"
   ]
  }
 ],
 "metadata": {
  "kernelspec": {
   "display_name": "Python 3 (ipykernel)",
   "language": "python",
   "name": "python3"
  },
  "language_info": {
   "codemirror_mode": {
    "name": "ipython",
    "version": 3
   },
   "file_extension": ".py",
   "mimetype": "text/x-python",
   "name": "python",
   "nbconvert_exporter": "python",
   "pygments_lexer": "ipython3",
   "version": "3.10.12"
  }
 },
 "nbformat": 4,
 "nbformat_minor": 5
}
